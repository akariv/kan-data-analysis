{
 "cells": [
  {
   "cell_type": "code",
   "execution_count": 33,
   "metadata": {
    "collapsed": true
   },
   "outputs": [],
   "source": [
    "import csv"
   ]
  },
  {
   "cell_type": "code",
   "execution_count": 34,
   "metadata": {
    "collapsed": true
   },
   "outputs": [],
   "source": [
    "data = list(csv.reader(open('closed_banks.csv')))"
   ]
  },
  {
   "cell_type": "code",
   "execution_count": 35,
   "metadata": {
    "collapsed": false
   },
   "outputs": [],
   "source": [
    "addresses = [\"{}, {}\".format(d[2].strip(), d[3].strip()) for d in data[1:]]"
   ]
  },
  {
   "cell_type": "code",
   "execution_count": 36,
   "metadata": {
    "collapsed": false
   },
   "outputs": [],
   "source": [
    "import geocoder"
   ]
  },
  {
   "cell_type": "code",
   "execution_count": 37,
   "metadata": {
    "collapsed": true
   },
   "outputs": [],
   "source": [
    "geocoded = [geocoder.google(x) for x in addresses]"
   ]
  },
  {
   "cell_type": "code",
   "execution_count": 38,
   "metadata": {
    "collapsed": true
   },
   "outputs": [],
   "source": [
    "BING_KEY='AjNlBnI3BnCHJWvMqLL9H9W-97rzMu3ZZzJxRkoGYt5bmHol4rryfEKihrDIHm-N'"
   ]
  },
  {
   "cell_type": "code",
   "execution_count": 39,
   "metadata": {
    "collapsed": true
   },
   "outputs": [],
   "source": [
    "geocoded = [x[1] if x[1].address is not None else geocoder.bing(x[0], key=BING_KEY) for x in zip(addresses, geocoded)]"
   ]
  },
  {
   "cell_type": "code",
   "execution_count": 40,
   "metadata": {
    "collapsed": false
   },
   "outputs": [],
   "source": [
    "zeros = [x for x in zip(addresses, geocoded) if len(x[1].latlng)==0]"
   ]
  },
  {
   "cell_type": "code",
   "execution_count": 41,
   "metadata": {
    "collapsed": false
   },
   "outputs": [
    {
     "data": {
      "text/plain": [
       "[('מחנה יוכבד, אילת', <[ERROR - No results found] Bing - Geocode>),\n",
       " ('מרכז מסחרי אלהרם, אום אל-פחם', <[ERROR - No results found] Bing - Geocode>),\n",
       " ('בי״ס טכני, חיפה', <[ERROR - No results found] Bing - Geocode>),\n",
       " ('אלעין, שפרעם', <[ERROR - No results found] Bing - Geocode>),\n",
       " ('אלעין, שפרעם', <[ERROR - No results found] Bing - Geocode>),\n",
       " ('כביש הרכס, נצרת', <[ERROR - No results found] Bing - Geocode>),\n",
       " ('כביש הרכס, נצרת', <[ERROR - No results found] Bing - Geocode>),\n",
       " ('רפפורט 3, כפר סבא', <[ERROR - No results found] Bing - Geocode>)]"
      ]
     },
     "execution_count": 41,
     "metadata": {},
     "output_type": "execute_result"
    }
   ],
   "source": [
    "zeros"
   ]
  },
  {
   "cell_type": "code",
   "execution_count": 42,
   "metadata": {
    "collapsed": true
   },
   "outputs": [],
   "source": [
    "w=csv.writer(open('closed_banks_out.csv', 'w'))"
   ]
  },
  {
   "cell_type": "code",
   "execution_count": 43,
   "metadata": {
    "collapsed": false
   },
   "outputs": [
    {
     "data": {
      "text/plain": [
       "27"
      ]
     },
     "execution_count": 43,
     "metadata": {},
     "output_type": "execute_result"
    }
   ],
   "source": [
    "w.writerow(['bank', 'name', 'address', 'lat', 'lon'])"
   ]
  },
  {
   "cell_type": "code",
   "execution_count": 44,
   "metadata": {
    "collapsed": false
   },
   "outputs": [],
   "source": [
    "w.writerows([\n",
    "    (d[0], d[1], a, str(g.latlng[0]), str(g.latlng[1]))\n",
    "     for d,a,g in zip(data[1:], addresses, geocoded)\n",
    "     if len(g.latlng)>0\n",
    "])\n",
    "    \n",
    "    "
   ]
  }
 ],
 "metadata": {
  "kernelspec": {
   "display_name": "Python 3",
   "language": "python",
   "name": "python3"
  },
  "language_info": {
   "codemirror_mode": {
    "name": "ipython",
    "version": 3
   },
   "file_extension": ".py",
   "mimetype": "text/x-python",
   "name": "python",
   "nbconvert_exporter": "python",
   "pygments_lexer": "ipython3",
   "version": "3.5.2"
  }
 },
 "nbformat": 4,
 "nbformat_minor": 2
}
