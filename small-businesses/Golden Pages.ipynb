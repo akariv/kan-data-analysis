{
 "cells": [
  {
   "cell_type": "code",
   "execution_count": 72,
   "metadata": {
    "collapsed": false
   },
   "outputs": [],
   "source": [
    "import requests\n",
    "from pyquery import PyQuery as pq\n",
    "import csv\n",
    "from collections import Counter\n",
    "import Levenshtein"
   ]
  },
  {
   "cell_type": "code",
   "execution_count": 151,
   "metadata": {
    "collapsed": false
   },
   "outputs": [],
   "source": [
    "def clean_name(x):\n",
    "    return x.replace('-',' ')\\\n",
    "            .replace(\"'\",'')\\\n",
    "            .replace('יי','י')\\\n",
    "            .replace('*','')\\\n",
    "            .replace('\"','')\\\n",
    "            .split('  ')[0].strip()\n"
   ]
  },
  {
   "cell_type": "code",
   "execution_count": 167,
   "metadata": {
    "collapsed": true
   },
   "outputs": [],
   "source": [
    "def get_cities(html, all_addresses):\n",
    "    html = pq(html)\n",
    "    addresses = html.find('[itemprop=\"streetAddress\"]')\n",
    "    names = html.find('[itemprop=\"name\"]')\n",
    "    addresses = [pq(x).text()+','+pq(y).text() for x,y in zip(names, addresses)]\n",
    "#     print(len(addresses), '\\n'.join(addresses))\n",
    "    addresses = [x for x in addresses if x not in all_addresses]\n",
    "    all_addresses.extend(addresses)\n",
    "    return [clean_name(x.split(',')[-1]) for x in addresses]"
   ]
  },
  {
   "cell_type": "code",
   "execution_count": 168,
   "metadata": {
    "collapsed": true
   },
   "outputs": [],
   "source": [
    "def get_cities_for_query(query):\n",
    "    basic_url = 'http://www.d.co.il/SearchResults'\n",
    "    more_url = 'http://www.d.co.il/DOTNET/ajax/GetMoreResults'\n",
    "    \n",
    "    cities = []\n",
    "    all_addresses = []\n",
    "\n",
    "    s = requests.session()\n",
    "    parameters={\n",
    "        'query':query, \n",
    "        'type':'tag', \n",
    "        'location': ''\n",
    "    }\n",
    "    resp = s.get(basic_url, params=parameters)\n",
    "    print(resp.url)\n",
    "    page = resp.text\n",
    "    cities.extend(get_cities(page, all_addresses))\n",
    "#     print(1, len(cities))\n",
    "\n",
    "    page_number = 2\n",
    "    while True:\n",
    "        parameters.update({\n",
    "            'type': 'tag',\n",
    "            'pageNumber': page_number,\n",
    "            'sortType': 3,\n",
    "            'findOnlyInCity': 0,\n",
    "            'locationId': 0\n",
    "        })\n",
    "        response = s.post(more_url, data=parameters).json()\n",
    "        if not response.get('success'):\n",
    "            break\n",
    "        html = response['html']\n",
    "        cities.extend(get_cities(html, all_addresses))\n",
    "        page_number += 1\n",
    "#         print(page_number, len(cities))\n",
    "    \n",
    "    return cities"
   ]
  },
  {
   "cell_type": "code",
   "execution_count": 169,
   "metadata": {
    "collapsed": false,
    "scrolled": true
   },
   "outputs": [],
   "source": [
    "munis = csv.DictReader(open('munis.csv'))\n",
    "muni_to_city = csv.DictReader(open('municipality-to-city.csv'))\n",
    "idx_col = 'index_peripheral_2004_cluster_from_1_to_10_1_compact_most'\n",
    "munis = dict(\n",
    "    (clean_name(x['name_municipality']),\n",
    "     dict(pop=float(x['population']),\n",
    "          idx=float(x[idx_col]) if x[idx_col] else None\n",
    "         ))\n",
    "    for x in munis\n",
    ")\n",
    "muni_to_city = dict(\n",
    "    (clean_name(x['city']), clean_name(x['municipality']))\n",
    "    for x in muni_to_city\n",
    "    if x['city'].strip() != ''\n",
    ")"
   ]
  },
  {
   "cell_type": "code",
   "execution_count": 170,
   "metadata": {
    "collapsed": true
   },
   "outputs": [],
   "source": [
    "def match(x,y,level=0):\n",
    "    ret = (level >= 0) and (x==y)\n",
    "    ret = ret or (level >= 1) and (x in y or y in x)\n",
    "    ret = ret or (level >= 2) and (Levenshtein.distance(x, y) < level)\n",
    "    return ret"
   ]
  },
  {
   "cell_type": "code",
   "execution_count": 181,
   "metadata": {
    "collapsed": false
   },
   "outputs": [
    {
     "name": "stdout",
     "output_type": "stream",
     "text": [
      "http://www.d.co.il/SearchResults?query=%D7%97%D7%A0%D7%95%D7%99%D7%95%D7%AA+%D7%A1%D7%A4%D7%A8%D7%99%D7%9D&location=&type=tag\n",
      "591\n",
      "MISSING המרכז האקדמי רופין\n",
      "MISSING אירפורט סיטי\n",
      "http://www.d.co.il/SearchResults?query=%D7%9E%D7%A1%D7%A4%D7%A8%D7%95%D7%AA+%D7%95%D7%A2%D7%99%D7%A6%D7%95%D7%91+%D7%A9%D7%99%D7%A2%D7%A8&location=&type=tag\n",
      "4912\n",
      "MISSING רמת אפעל\n",
      "MISSING אירפורט סיטי\n",
      "MISSING תל חי\n",
      "http://www.d.co.il/SearchResults?query=%D7%A6%D7%99%D7%A4%D7%95%D7%A8%D7%A0%D7%99%D7%99%D7%9D+-+%D7%91%D7%A0%D7%99%D7%99%D7%94+%D7%95%D7%98%D7%99%D7%A4%D7%95%D7%97&location=&type=tag\n",
      "1486\n"
     ]
    }
   ],
   "source": [
    "queries = [\n",
    "    'חנויות ספרים',\n",
    "    'מספרות ועיצוב שיער',\n",
    "    'ציפורניים - בנייה וטיפוח',    \n",
    "]\n",
    "allres = {}\n",
    "idxres = {}\n",
    "for muni, values in munis.items():\n",
    "    allres[muni] = dict(\n",
    "        name=muni,\n",
    "        idx=values['idx'],\n",
    "        pop=values['pop']\n",
    "    )\n",
    "    idxres.setdefault(values['idx'], {})\n",
    "    idxrec = idxres[values['idx']]\n",
    "    idxrec.setdefault('idx', values['idx'])\n",
    "    idxrec.setdefault('pop', 0)\n",
    "    idxrec['pop'] += values['pop']\n",
    "    for q in queries:\n",
    "        allres[muni][q] = 0\n",
    "        idxrec[q] = 0\n",
    "for q in queries:\n",
    "    cities = get_cities_for_query(q)\n",
    "    print(len(cities))\n",
    "    cities = dict(Counter(cities))\n",
    "    for city, count in cities.items():\n",
    "        found = False\n",
    "        converted = False\n",
    "        while not found:\n",
    "            for level in range(4):\n",
    "                for muni, values in munis.items():\n",
    "                    if match(muni, city, level):\n",
    "                        found = True\n",
    "                        allres[muni][q] += count\n",
    "                        idxres[values['idx']][q] += count\n",
    "                        break\n",
    "                if found:\n",
    "                    break\n",
    "            if found or converted:\n",
    "                break\n",
    "            for level in range(4):\n",
    "                for k, v in muni_to_city.items():\n",
    "                    if match(k, city, level):\n",
    "                        found = True\n",
    "                        city = v\n",
    "                        converted = True\n",
    "                        break\n",
    "                if found:\n",
    "                    break\n",
    "            if not found:            \n",
    "                print('MISSING',city)\n",
    "                break\n"
   ]
  },
  {
   "cell_type": "code",
   "execution_count": 182,
   "metadata": {
    "collapsed": false
   },
   "outputs": [
    {
     "name": "stdout",
     "output_type": "stream",
     "text": [
      "מזרעה {'pop': 3700.0, 'ציפורניים - בנייה וטיפוח': 0, 'name': 'מזרעה', 'חנויות ספרים': 0, 'idx': 4.0, 'מספרות ועיצוב שיער': 2}\n",
      "הגלבוע {'pop': 28900.0, 'ציפורניים - בנייה וטיפוח': 0, 'name': 'הגלבוע', 'חנויות ספרים': 0, 'idx': 4.0, 'מספרות ועיצוב שיער': 0}\n",
      "מיתר {'pop': 7300.0, 'ציפורניים - בנייה וטיפוח': 3, 'name': 'מיתר', 'חנויות ספרים': 2, 'idx': 4.0, 'מספרות ועיצוב שיער': 3}\n",
      "באקה אל גרביה {'pop': 28100.0, 'ציפורניים - בנייה וטיפוח': 1, 'name': 'באקה אל גרביה', 'חנויות ספרים': 0, 'idx': None, 'מספרות ועיצוב שיער': 7}\n",
      "כוכב יאיר {'pop': 9000.0, 'ציפורניים - בנייה וטיפוח': 1, 'name': 'כוכב יאיר', 'חנויות ספרים': 2, 'idx': 7.0, 'מספרות ועיצוב שיער': 3}\n",
      "פקיעין (בוקיעה) {'pop': 5700.0, 'ציפורניים - בנייה וטיפוח': 0, 'name': 'פקיעין (בוקיעה)', 'חנויות ספרים': 0, 'idx': 4.0, 'מספרות ועיצוב שיער': 1}\n",
      "זבולון {'pop': 12700.0, 'ציפורניים - בנייה וטיפוח': 0, 'name': 'זבולון', 'חנויות ספרים': 0, 'idx': 5.0, 'מספרות ועיצוב שיער': 0}\n",
      "חוף הכרמל {'pop': 29300.0, 'ציפורניים - בנייה וטיפוח': 0, 'name': 'חוף הכרמל', 'חנויות ספרים': 0, 'idx': 5.0, 'מספרות ועיצוב שיער': 0}\n",
      "מנשה {'pop': 19000.0, 'ציפורניים - בנייה וטיפוח': 1, 'name': 'מנשה', 'חנויות ספרים': 0, 'idx': 6.0, 'מספרות ועיצוב שיער': 0}\n",
      "רמת נגב {'pop': 6800.0, 'ציפורניים - בנייה וטיפוח': 0, 'name': 'רמת נגב', 'חנויות ספרים': 0, 'idx': 3.0, 'מספרות ועיצוב שיער': 0}\n",
      "כפר כמא {'pop': 3200.0, 'ציפורניים - בנייה וטיפוח': 0, 'name': 'כפר כמא', 'חנויות ספרים': 0, 'idx': 4.0, 'מספרות ועיצוב שיער': 2}\n",
      "מגד אל כרום {'pop': 14800.0, 'ציפורניים - בנייה וטיפוח': 0, 'name': 'מגד אל כרום', 'חנויות ספרים': 0, 'idx': None, 'מספרות ועיצוב שיער': 2}\n",
      "שבלי {'pop': 5700.0, 'ציפורניים - בנייה וטיפוח': 0, 'name': 'שבלי', 'חנויות ספרים': 0, 'idx': 4.0, 'מספרות ועיצוב שיער': 3}\n",
      "חדרה {'pop': 88800.0, 'ציפורניים - בנייה וטיפוח': 33, 'name': 'חדרה', 'חנויות ספרים': 8, 'idx': 7.0, 'מספרות ועיצוב שיער': 115}\n",
      "אופקים {'pop': 25700.0, 'ציפורניים - בנייה וטיפוח': 8, 'name': 'אופקים', 'חנויות ספרים': 1, 'idx': 4.0, 'מספרות ועיצוב שיער': 15}\n",
      "1.0 {'ציפורניים - בנייה וטיפוח': 22, 'חנויות ספרים': 6, 'idx': 1.0, 'pop': 53500.0, 'מספרות ועיצוב שיער': 66}\n",
      "2.0 {'ציפורניים - בנייה וטיפוח': 1, 'חנויות ספרים': 1, 'idx': 2.0, 'pop': 34600.0, 'מספרות ועיצוב שיער': 2}\n",
      "3.0 {'ציפורניים - בנייה וטיפוח': 43, 'חנויות ספרים': 17, 'idx': 3.0, 'pop': 234700.0, 'מספרות ועיצוב שיער': 101}\n",
      "None {'ציפורניים - בנייה וטיפוח': 8, 'חנויות ספרים': 0, 'idx': None, 'pop': 119300.0, 'מספרות ועיצוב שיער': 21}\n",
      "5.0 {'ציפורניים - בנייה וטיפוח': 111, 'חנויות ספרים': 45, 'idx': 5.0, 'pop': 912700.0, 'מספרות ועיצוב שיער': 367}\n",
      "6.0 {'ציפורניים - בנייה וטיפוח': 279, 'חנויות ספרים': 85, 'idx': 6.0, 'pop': 1532800.0, 'מספרות ועיצוב שיער': 772}\n",
      "7.0 {'ציפורניים - בנייה וטיפוח': 193, 'חנויות ספרים': 66, 'idx': 7.0, 'pop': 1164900.0, 'מספרות ועיצוב שיער': 654}\n",
      "8.0 {'ציפורניים - בנייה וטיפוח': 218, 'חנויות ספרים': 78, 'idx': 8.0, 'pop': 877900.0, 'מספרות ועיצוב שיער': 659}\n",
      "4.0 {'ציפורניים - בנייה וטיפוח': 98, 'חנויות ספרים': 24, 'idx': 4.0, 'pop': 895500.0, 'מספרות ועיצוב שיער': 274}\n",
      "9.0 {'ציפורניים - בנייה וטיפוח': 319, 'חנויות ספרים': 139, 'idx': 9.0, 'pop': 1749700.0, 'מספרות ועיצוב שיער': 1087}\n",
      "10.0 {'ציפורניים - בנייה וטיפוח': 146, 'חנויות ספרים': 115, 'idx': 10.0, 'pop': 825800.0, 'מספרות ועיצוב שיער': 805}\n"
     ]
    }
   ],
   "source": [
    "kk=list(allres.keys())[:15]\n",
    "for k in kk:\n",
    "    print(k,allres[k])\n",
    "kk=list(idxres.keys())[:15]\n",
    "for k in kk:\n",
    "    print(k,idxres[k])\n"
   ]
  },
  {
   "cell_type": "code",
   "execution_count": 186,
   "metadata": {
    "collapsed": false
   },
   "outputs": [],
   "source": [
    "w=csv.DictWriter(open('allres.csv','w'), ['name', 'idx', 'pop']+queries)\n",
    "w.writeheader()\n",
    "w.writerows(list(allres.values()))\n",
    "\n",
    "w=csv.DictWriter(open('idxres.csv','w'), ['idx', 'pop']+queries)\n",
    "w.writeheader()\n",
    "w.writerows(list(idxres.values()))\n",
    "\n",
    "del w\n"
   ]
  },
  {
   "cell_type": "code",
   "execution_count": null,
   "metadata": {
    "collapsed": true
   },
   "outputs": [],
   "source": []
  }
 ],
 "metadata": {
  "kernelspec": {
   "display_name": "Python 3",
   "language": "python",
   "name": "python3"
  },
  "language_info": {
   "codemirror_mode": {
    "name": "ipython",
    "version": 3
   },
   "file_extension": ".py",
   "mimetype": "text/x-python",
   "name": "python",
   "nbconvert_exporter": "python",
   "pygments_lexer": "ipython3",
   "version": "3.5.2"
  }
 },
 "nbformat": 4,
 "nbformat_minor": 2
}
