{
 "cells": [
  {
   "cell_type": "code",
   "execution_count": 32,
   "metadata": {
    "collapsed": true
   },
   "outputs": [],
   "source": [
    "import requests\n",
    "from pyquery import PyQuery as pq\n",
    "import csv\n",
    "import os\n",
    "import json\n",
    "import hashlib\n",
    "import time\n",
    "import re"
   ]
  },
  {
   "cell_type": "code",
   "execution_count": 3,
   "metadata": {
    "collapsed": true
   },
   "outputs": [],
   "source": [
    "def url_to_dict(url):\n",
    "    return dict(x.split('=') for x in url.split('&'))"
   ]
  },
  {
   "cell_type": "code",
   "execution_count": 36,
   "metadata": {
    "collapsed": true
   },
   "outputs": [],
   "source": [
    "search_url=r'https://www.sapak-mushlam.co.il/mushlamprovidersearch/Handlers/SearchProviders.ashx?dt=%d'\n",
    "details_url=r'https://www.sapak-mushlam.co.il/mushlamprovidersearch/Handlers/GetProviderDetails.ashx?dt=%d'\n",
    "search_data='reSearch=1&SearchType=2&ResultsType=0&ProviderType=surgeon&DoctorIds=&ServiceId=S31-0&CityId=&Language=&WeekDays=&HoursFrom=&HoursTo=&Gender=&SearchFlag=0&CatAndSpec=&Profession=&OptTreatmentId=&SurgeryId=&HospitalId=&surgeonOnly=false&mProviderId=&cityIdExt=&cityName=&cityNameExt=&cityInUse=&subject=&subjectExt=&alternativeSearch=0&specialWords=&fixedWords=&Page=1&rp=10&orderBy=&AdvisorType=-2'\n",
    "details_data='DocPlaceID=529&DoctorId=4182&Class=table_line1&ProviderType=surgeon&ResultsType=0&OperationId=238'\n",
    "search_data=url_to_dict(search_data)\n",
    "details_data=url_to_dict(details_data)"
   ]
  },
  {
   "cell_type": "code",
   "execution_count": 161,
   "metadata": {
    "collapsed": false
   },
   "outputs": [],
   "source": [
    "dt=1\n",
    "lastkey=None"
   ]
  },
  {
   "cell_type": "code",
   "execution_count": 168,
   "metadata": {
    "collapsed": true
   },
   "outputs": [],
   "source": [
    "def get_with_cache(url, data):\n",
    "    global lastkey\n",
    "    key = (json.dumps(data, sort_keys=True)).encode('utf8')\n",
    "    key = hashlib.md5(key).hexdigest()\n",
    "    try:\n",
    "        content =  open(os.path.join('mushlam_cache', key), encoding='utf8').read()\n",
    "        lastkey = key\n",
    "    except FileNotFoundError:\n",
    "        headers={'User-Agent': 'Mozilla/5.0 (Macintosh; Intel Mac OS X 10_11_6) AppleWebKit/537.36 (KHTML, like Gecko) Chrome/56.0.2924.87 Safari/537.36'}\n",
    "        resp = requests.get(url, data=data, headers=headers)\n",
    "        time.sleep(3)\n",
    "        content = resp.text\n",
    "        open(os.path.join('mushlam_cache', key), 'w', encoding='utf8').write(content)\n",
    "    return content"
   ]
  },
  {
   "cell_type": "code",
   "execution_count": 169,
   "metadata": {
    "collapsed": true
   },
   "outputs": [],
   "source": [
    "def get_details(props):\n",
    "    global dt\n",
    "    details_data['DocPlaceID']=props['plcId']\n",
    "    details_data['DoctorId']=props['docId']\n",
    "    details_data['OperationId']=props['oprtId']\n",
    "    del props['plcId']\n",
    "    del props['docId']\n",
    "    del props['oprtId']\n",
    "    details=get_with_cache(details_url % dt, details_data)\n",
    "    dt += 1\n",
    "    cells=pq(details).find('td')\n",
    "    for cell_ in cells:\n",
    "        cell=pq(cell_)\n",
    "        if len(cell.children()) == 2:\n",
    "            first_child = pq(cell.children()[0])\n",
    "            fist_child_class=first_child.attr('class')\n",
    "            if fist_child_class is not None and fist_child_class.startswith('text_blue'):\n",
    "                name = first_child.text().replace(':', '').strip()\n",
    "                value = pq(cell.children()[1]).text()\n",
    "                if '₪' in value:\n",
    "                    value = value.replace('₪', '').replace(',','').strip()\n",
    "                props[name] = value\n",
    "    return props\n",
    "   "
   ]
  },
  {
   "cell_type": "code",
   "execution_count": 170,
   "metadata": {
    "collapsed": false
   },
   "outputs": [],
   "source": [
    "def search_page(page):\n",
    "    global dt\n",
    "    search_data['Page']=str(page)\n",
    "    search_data['reSearch']='0' if page==1 else '1'\n",
    "    search=get_with_cache(search_url % dt, search_data)\n",
    "    dt += 1\n",
    "    rows=pq(search).find('tr')\n",
    "    got = 0\n",
    "    for row_ in rows:\n",
    "        row = pq(row_)\n",
    "        row_cls=row.attr('class')\n",
    "        if row_cls is None or 'docId:' not in row_cls:\n",
    "            continue\n",
    "        props = dict(x.split(':') for x in row.attr('class').split())\n",
    "        cells = row.find('td')\n",
    "        props['name'] = pq(cells[1]).text()\n",
    "        props['operation'] = pq(cells[2]).text()\n",
    "        props['hospital'] = pq(cells[3]).text()\n",
    "        props['hospital_phone'] = pq(cells[4]).text()\n",
    "        props['clinic_phone'] = pq(cells[5]).text()\n",
    "        props = get_details(props)\n",
    "        yield props\n",
    "        got += 1\n",
    "    if got < 10:\n",
    "        yield None"
   ]
  },
  {
   "cell_type": "code",
   "execution_count": 171,
   "metadata": {
    "collapsed": false
   },
   "outputs": [],
   "source": [
    "def search_all():\n",
    "    page = 1\n",
    "    done = False\n",
    "    while not done:\n",
    "        for row in search_page(page):\n",
    "            if row is not None:\n",
    "                yield row\n",
    "            else:\n",
    "                done = True\n",
    "                break\n",
    "        page+=1"
   ]
  },
  {
   "cell_type": "code",
   "execution_count": 172,
   "metadata": {
    "collapsed": false
   },
   "outputs": [],
   "source": [
    "headers=['name',\n",
    "         'operation',\n",
    "         'hospital', \n",
    "         'גובה השתתפות עצמית פלטינום', \n",
    "         'גובה השתתפות עצמית מושלם',\n",
    "         'שירות',\n",
    "         'שפת דיבור',\n",
    "         'שפות דיבור',\n",
    "         'תפקיד',\n",
    "         'מין',\n",
    "         'hospital_phone',\n",
    "         'clinic_phone',\n",
    "         'כתובת בית החולים', \n",
    "         'מידע נוסף', \n",
    "         'yMap', \n",
    "         'xMap', \n",
    "        ]"
   ]
  },
  {
   "cell_type": "code",
   "execution_count": 173,
   "metadata": {
    "collapsed": false
   },
   "outputs": [
    {
     "name": "stdout",
     "output_type": "stream",
     "text": [
      "KKK e5ab6beef963449b00f35588bce5f6b0\n"
     ]
    }
   ],
   "source": [
    "while True:\n",
    "    writer = csv.DictWriter(open('mushlam.csv', 'w'), headers)\n",
    "    writer.writerow(dict(zip(headers, headers)))\n",
    "    try:\n",
    "        writer.writerows(search_all())\n",
    "    except Exception as e:\n",
    "        print(repr(e))\n",
    "        time.sleep(60)\n",
    "        continue\n",
    "    break\n"
   ]
  },
  {
   "cell_type": "markdown",
   "metadata": {},
   "source": [
    "### This part is for comparing the clalit and harel data"
   ]
  },
  {
   "cell_type": "code",
   "execution_count": 3,
   "metadata": {
    "collapsed": false
   },
   "outputs": [],
   "source": [
    "clalit_data = list(csv.DictReader(open('mushlam.csv')))\n",
    "harel_data = json.load(open('harel_response.json'))['data']['lines']"
   ]
  },
  {
   "cell_type": "code",
   "execution_count": 60,
   "metadata": {
    "collapsed": false
   },
   "outputs": [],
   "source": [
    "name_re = re.compile('[א-ת]+')\n",
    "doctor_data = {}\n",
    "keys = ['name']\n",
    "def aggregate_doctors(src, data_):\n",
    "    ids = set()\n",
    "    for data in data_:\n",
    "        doctor_name = data.get('name', data.get('sname'))\n",
    "        for clean in ['<nobr>', \n",
    "                      '</nobr>', \n",
    "                      'ד\"ר', \n",
    "                      \"דר'\",\n",
    "                      \"פר'\",\n",
    "                      \"פרופ'\",\n",
    "                      \"'\", \"׳\", \"-\"]:\n",
    "            doctor_name = doctor_name.replace(clean, '')\n",
    "        while '  ' in doctor_name:\n",
    "            doctor_name = doctor_name.replace('  ', ' ')\n",
    "        doctor_name = doctor_name.strip()\n",
    "        if len(doctor_name) == 0:\n",
    "            continue\n",
    "        doctor_id = ''.join(sorted(name_re.findall(doctor_name)))\n",
    "        ids.add(doctor_id)\n",
    "        doctor_record = doctor_data.setdefault(doctor_id, {'name': doctor_name})\n",
    "        doctor_record[src] = True\n",
    "        operation = data.get('operation', data.get('sexpertise'))\n",
    "        t_key = src+'_treatments'\n",
    "        doctor_record.setdefault(t_key, \"\")\n",
    "        doctor_record[t_key] += operation + '\\n'\n",
    "        if src not in keys:\n",
    "            keys.append(src)\n",
    "        if t_key not in keys:\n",
    "            keys.append(t_key)\n",
    "    return ids"
   ]
  },
  {
   "cell_type": "code",
   "execution_count": 61,
   "metadata": {
    "collapsed": false
   },
   "outputs": [],
   "source": [
    "clalit_ids = aggregate_doctors('clalit', clalit_data)\n",
    "harel_ids = aggregate_doctors('harel', harel_data)\n"
   ]
  },
  {
   "cell_type": "code",
   "execution_count": 62,
   "metadata": {
    "collapsed": false
   },
   "outputs": [
    {
     "name": "stdout",
     "output_type": "stream",
     "text": [
      "1109\n",
      "674\n",
      "651\n",
      "216\n"
     ]
    }
   ],
   "source": [
    "print(len(list(doctor_data.keys())))\n",
    "print(len(clalit_ids))\n",
    "print(len(harel_ids))\n",
    "print(len(clalit_ids.intersection(harel_ids)))"
   ]
  },
  {
   "cell_type": "code",
   "execution_count": 64,
   "metadata": {
    "collapsed": false
   },
   "outputs": [],
   "source": [
    "w = csv.DictWriter(open('combined_mushlam_harel.csv' ,'w'), keys)\n",
    "w.writeheader()\n",
    "w.writerows(doctor_data.values())\n"
   ]
  },
  {
   "cell_type": "code",
   "execution_count": null,
   "metadata": {
    "collapsed": true
   },
   "outputs": [],
   "source": []
  }
 ],
 "metadata": {
  "kernelspec": {
   "display_name": "Python 3",
   "language": "python",
   "name": "python3"
  },
  "language_info": {
   "codemirror_mode": {
    "name": "ipython",
    "version": 3
   },
   "file_extension": ".py",
   "mimetype": "text/x-python",
   "name": "python",
   "nbconvert_exporter": "python",
   "pygments_lexer": "ipython3",
   "version": "3.5.2"
  }
 },
 "nbformat": 4,
 "nbformat_minor": 2
}
