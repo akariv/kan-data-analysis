{
 "cells": [
  {
   "cell_type": "code",
   "execution_count": 35,
   "metadata": {
    "collapsed": true
   },
   "outputs": [],
   "source": [
    "import requests\n",
    "import copy"
   ]
  },
  {
   "cell_type": "markdown",
   "metadata": {},
   "source": [
    "Get all the projects (active, future, and complete):"
   ]
  },
  {
   "cell_type": "code",
   "execution_count": 3,
   "metadata": {
    "collapsed": true
   },
   "outputs": [],
   "source": [
    "all_projects=requests.get('https://dira.moch.gov.il/api/Invoker?method=Projects&param=%3FfirstApplicantIdentityNumber%3D%26secondApplicantIdentityNumber%3D%26ProjectStatus%3D1%26PageNumber%3D1%26PageSize%3D0%26').json()"
   ]
  },
  {
   "cell_type": "code",
   "execution_count": 8,
   "metadata": {
    "collapsed": false
   },
   "outputs": [
    {
     "data": {
      "text/plain": [
       "{'$id': '2',\n",
       " 'ApplicationEndDate': '2016-12-29T00:00:00',\n",
       " 'ApplicationStartDate': '2016-12-02T00:00:00',\n",
       " 'CityCode': 7700,\n",
       " 'CityDescription': 'עפולה',\n",
       " 'ContractorCode': 515046365,\n",
       " 'ContractorDescription': 'י.ס.ד בעמק יזמות ובנייה',\n",
       " 'GrantSize': 40000.0,\n",
       " 'HousingUnits': 44,\n",
       " 'IsForAplicant': False,\n",
       " 'IsLotteryHeld': False,\n",
       " 'Linking': None,\n",
       " 'LotteryDate': None,\n",
       " 'LotteryNumber': '151',\n",
       " 'LotteryWinFile': '',\n",
       " 'NeighborhoodName': 'עפולה - העיר',\n",
       " 'Notes': 'הבהרה: ההגרלה בפרויקט זה נעשית לצורך קביעת סדר הזוכים לבחירת הדירות בלבד, וטרם קבלת היתר בנייה או היתר בנייה בתנאים. הנתונים התכנוניים של דירות הפרויקט, לרבות מחירה הסופי של הדירה, יפורסמו לאחר קבלת היתר הבנייה מרשויות התכנון, ואחר כך יישלחו לזוכים מועדים לזימון לבחירת דירות. יודגש כי האחריות לקבלת היתר הבנייה מוטלת על יזם הפרויקט ולא על משרד הבינוי והשיכון ו/או רשות מקרקעי ישראל. לפיכך לא יחולו על הגרלה זו הוראות תקנון הגרלת מחיר למשתכן בעניין המועדים לזימון לבחירת דירות לאחר ביצוע ההגרלה. עם קבלת היתר הבנייה או היתר הבנייה בתנאים יזומנו הזוכים לבחור דירות.',\n",
       " 'PriceIndexCode': 2,\n",
       " 'PriceIndexDate': '2016-08-01T00:00:00',\n",
       " 'PriceIndexDescription': 'מדד תשומות הבנייה',\n",
       " 'PricePerUnit': 5359.77,\n",
       " 'ProcessCode': 2,\n",
       " 'ProcessName': 'מחיר למשתכן',\n",
       " 'ProjectImageURLs': None,\n",
       " 'ProjectName': 'עפולה - העיר',\n",
       " 'ProjectNumber': '33',\n",
       " 'ProjectURL': None,\n",
       " 'RegulationsVersion': 'eWJmRVRwK05VcEVjMEpjeVNldlkzdz09',\n",
       " 'ResponsibilityCode': 2,\n",
       " 'ResponsibilityDescription': 'רמ\"י',\n",
       " 'StageCode': 1,\n",
       " 'TargetHousingUnits': 36}"
      ]
     },
     "execution_count": 8,
     "metadata": {},
     "output_type": "execute_result"
    }
   ],
   "source": [
    "all_projects['ProjectItems'][0]"
   ]
  },
  {
   "cell_type": "markdown",
   "metadata": {},
   "source": [
    "Now I can get the list of all done projects (code for done is `5`)"
   ]
  },
  {
   "cell_type": "code",
   "execution_count": 19,
   "metadata": {
    "collapsed": false
   },
   "outputs": [
    {
     "data": {
      "text/plain": [
       "395"
      ]
     },
     "execution_count": 19,
     "metadata": {},
     "output_type": "execute_result"
    }
   ],
   "source": [
    "len(all_projects['ProjectItems'])"
   ]
  },
  {
   "cell_type": "code",
   "execution_count": 22,
   "metadata": {
    "collapsed": true
   },
   "outputs": [],
   "source": [
    "done_projects = [p for p in all_projects['ProjectItems'] if p['IsLotteryHeld']]"
   ]
  },
  {
   "cell_type": "code",
   "execution_count": 23,
   "metadata": {
    "collapsed": false
   },
   "outputs": [
    {
     "data": {
      "text/plain": [
       "47"
      ]
     },
     "execution_count": 23,
     "metadata": {},
     "output_type": "execute_result"
    }
   ],
   "source": [
    "len(done_projects)"
   ]
  },
  {
   "cell_type": "code",
   "execution_count": 31,
   "metadata": {
    "collapsed": true
   },
   "outputs": [],
   "source": [
    "method = 'Apartments',\n",
    "param = '?projectNumber={}&LotteryNumber={}&'"
   ]
  },
  {
   "cell_type": "code",
   "execution_count": 32,
   "metadata": {
    "collapsed": true
   },
   "outputs": [],
   "source": [
    "apartments_url = 'https://dira.moch.gov.il/api/Invoker'"
   ]
  },
  {
   "cell_type": "code",
   "execution_count": 36,
   "metadata": {
    "collapsed": true
   },
   "outputs": [],
   "source": [
    "results = []\n",
    "for project in done_projects:\n",
    "    apartments = requests.get(apartments_url, params={\n",
    "        'method': method,\n",
    "        'param': param.format(project['ProjectNumber'], project['LotteryNumber'])\n",
    "    }).json() \n",
    "    for apartment in apartments['ApartmentItems']:\n",
    "        rec = copy.deepcopy(project)\n",
    "        rec.update(apartment)\n",
    "        results.append(rec)"
   ]
  },
  {
   "cell_type": "code",
   "execution_count": 37,
   "metadata": {
    "collapsed": false
   },
   "outputs": [
    {
     "data": {
      "text/plain": [
       "2878"
      ]
     },
     "execution_count": 37,
     "metadata": {},
     "output_type": "execute_result"
    }
   ],
   "source": [
    "len(results)"
   ]
  },
  {
   "cell_type": "code",
   "execution_count": 38,
   "metadata": {
    "collapsed": false
   },
   "outputs": [
    {
     "data": {
      "text/plain": [
       "{'$id': '2',\n",
       " 'ApartmentNumber': 1,\n",
       " 'ApartmentSize': 149.43,\n",
       " 'ApartmentType': '',\n",
       " 'ApplicationEndDate': '2016-12-05T00:00:00',\n",
       " 'ApplicationStartDate': '2016-11-08T00:00:00',\n",
       " 'BalconySize': 137.39,\n",
       " 'BuildingNumber': '&1',\n",
       " 'CityCode': 3000,\n",
       " 'CityDescription': 'ירושלים',\n",
       " 'ContractorCode': 511982910,\n",
       " 'ContractorDescription': 'גיא א דורון לוי הנדסה בנייה וה',\n",
       " 'FloorNumber': '-1',\n",
       " 'GrantSize': 0.0,\n",
       " 'HousingUnits': 140,\n",
       " 'InternetNotes': '',\n",
       " 'IsForAplicant': False,\n",
       " 'IsLotteryHeld': True,\n",
       " 'Linking': None,\n",
       " 'LotNumber': '5',\n",
       " 'LotteryDate': '2016-12-13T11:10:32.88',\n",
       " 'LotteryNumber': '146',\n",
       " 'LotteryWinFile': 'VW4zbmk2RFdQbkdFM25QM09oVXZ4Zz09',\n",
       " 'NeighborhoodName': 'רמת שלמה',\n",
       " 'Notes': 'משרד הבינוי והשיכון מבקש להביא לידיעת הנרשמים להגרלה מס\\' 146 כי לאור אופייה של שכונת רמת שלמה, החליטה עיריית ירושלים ביום 5.11.2000, לסגור את כביש הגישה לשכונה משד\\' יגאל ידין, רח\\' שלמה זלמן דרוק, בשבתות ובמועדי ישראל. מצ\"ב לשון החלטת מועצת עיריית ירושלים בעניין הסדרי התנועה בעיר בשבתות ובמועדי ישראל: \"בהמשך להחלטות קודמות ובהתאם לסמכות ראש העיר על פי תקנות התעבורה כרשות תמרור מקומית ובמסגרת כתב ההרשאה מיום ה-21.6.92 שניתן ע\"י המפקח על התעבורה מחוזות ירושלים והדרום, ולאחר התייעצות עם קצין המשטרה וכן עם המפקח על התעבורה במחוזות ירושלים והדרום סומכת מועצת העירייה את ידה על ההחלטה לסגור את הרחוב הבא בשבתות ובמועדי ישראל: רח\\' שלמה זלמן דרוק (כביש הגישה לשכונת רמת שלמה משד\\' יגאל ידין)\".',\n",
       " 'ParkingLotNumber': None,\n",
       " 'ParkingLots': 2,\n",
       " 'PriceIndexCode': 2,\n",
       " 'PriceIndexDate': '2015-11-01T00:00:00',\n",
       " 'PriceIndexDescription': 'מדד תשומות הבנייה',\n",
       " 'PricePerProcess': 2529720.0,\n",
       " 'PricePerUnit': 12810.33,\n",
       " 'ProcessCode': 2,\n",
       " 'ProcessName': 'מחיר למשתכן',\n",
       " 'ProjectImageURLs': None,\n",
       " 'ProjectName': 'רמת שלמה',\n",
       " 'ProjectNumber': '43368',\n",
       " 'ProjectURL': None,\n",
       " 'RegulationsVersion': 'eWJmRVRwK05VcEVjMEpjeVNldlkzdz09',\n",
       " 'ResponsibilityCode': 2,\n",
       " 'ResponsibilityDescription': 'רמ\"י',\n",
       " 'RoomCode': 5,\n",
       " 'RoomDescription': '5',\n",
       " 'StageCode': 1,\n",
       " 'TargetHousingUnits': 140,\n",
       " 'WarehouseNumber': None,\n",
       " 'WarehouseSize': 7.07}"
      ]
     },
     "execution_count": 38,
     "metadata": {},
     "output_type": "execute_result"
    }
   ],
   "source": [
    "results[0]"
   ]
  },
  {
   "cell_type": "code",
   "execution_count": 49,
   "metadata": {
    "collapsed": false
   },
   "outputs": [],
   "source": [
    "all_project_keys = set()\n",
    "for result in done_projects:\n",
    "    all_project_keys=all_project_keys.union(set(result.keys()))\n",
    "   \n",
    "all_keys = set()\n",
    "for result in results:\n",
    "    all_keys=all_keys.union(set(result.keys()))\n"
   ]
  },
  {
   "cell_type": "code",
   "execution_count": 50,
   "metadata": {
    "collapsed": false
   },
   "outputs": [],
   "source": [
    "fields = sorted(all_project_keys) + sorted(all_keys-all_project_keys)"
   ]
  },
  {
   "cell_type": "code",
   "execution_count": 51,
   "metadata": {
    "collapsed": false
   },
   "outputs": [
    {
     "data": {
      "text/plain": [
       "['$id',\n",
       " 'ApplicationEndDate',\n",
       " 'ApplicationStartDate',\n",
       " 'CityCode',\n",
       " 'CityDescription',\n",
       " 'ContractorCode',\n",
       " 'ContractorDescription',\n",
       " 'GrantSize',\n",
       " 'HousingUnits',\n",
       " 'IsForAplicant',\n",
       " 'IsLotteryHeld',\n",
       " 'Linking',\n",
       " 'LotteryDate',\n",
       " 'LotteryNumber',\n",
       " 'LotteryWinFile',\n",
       " 'NeighborhoodName',\n",
       " 'Notes',\n",
       " 'PriceIndexCode',\n",
       " 'PriceIndexDate',\n",
       " 'PriceIndexDescription',\n",
       " 'PricePerUnit',\n",
       " 'ProcessCode',\n",
       " 'ProcessName',\n",
       " 'ProjectImageURLs',\n",
       " 'ProjectName',\n",
       " 'ProjectNumber',\n",
       " 'ProjectURL',\n",
       " 'RegulationsVersion',\n",
       " 'ResponsibilityCode',\n",
       " 'ResponsibilityDescription',\n",
       " 'StageCode',\n",
       " 'TargetHousingUnits',\n",
       " 'ApartmentNumber',\n",
       " 'ApartmentSize',\n",
       " 'ApartmentType',\n",
       " 'BalconySize',\n",
       " 'BuildingNumber',\n",
       " 'FloorNumber',\n",
       " 'InternetNotes',\n",
       " 'LotNumber',\n",
       " 'ParkingLotNumber',\n",
       " 'ParkingLots',\n",
       " 'PricePerProcess',\n",
       " 'RoomCode',\n",
       " 'RoomDescription',\n",
       " 'WarehouseNumber',\n",
       " 'WarehouseSize']"
      ]
     },
     "execution_count": 51,
     "metadata": {},
     "output_type": "execute_result"
    }
   ],
   "source": [
    "fields"
   ]
  },
  {
   "cell_type": "code",
   "execution_count": 52,
   "metadata": {
    "collapsed": true
   },
   "outputs": [],
   "source": [
    "import csv"
   ]
  },
  {
   "cell_type": "code",
   "execution_count": 53,
   "metadata": {
    "collapsed": true
   },
   "outputs": [],
   "source": [
    "w=csv.DictWriter(open('mishtaken.csv', 'w'), fields)"
   ]
  },
  {
   "cell_type": "code",
   "execution_count": 54,
   "metadata": {
    "collapsed": true
   },
   "outputs": [],
   "source": [
    "w.writeheader()"
   ]
  },
  {
   "cell_type": "code",
   "execution_count": 55,
   "metadata": {
    "collapsed": true
   },
   "outputs": [],
   "source": [
    "w.writerows(results)"
   ]
  },
  {
   "cell_type": "markdown",
   "metadata": {
    "collapsed": true
   },
   "source": [
    "Now we can get the data for all the projects (for Saar).\n",
    "This is the API call to use `https://dira.moch.gov.il/api/Invoker?method=LotteryResult&param=%3FlotteryNumber%3D153%26firstApplicantIdentityNumber%3D%26secondApplicantIdentityNumber%3D%26LoginId%3D%26` with the specific lottery number"
   ]
  }
 ],
 "metadata": {
  "kernelspec": {
   "display_name": "Python 3",
   "language": "python",
   "name": "python3"
  },
  "language_info": {
   "codemirror_mode": {
    "name": "ipython",
    "version": 3
   },
   "file_extension": ".py",
   "mimetype": "text/x-python",
   "name": "python",
   "nbconvert_exporter": "python",
   "pygments_lexer": "ipython3",
   "version": "3.5.2"
  }
 },
 "nbformat": 4,
 "nbformat_minor": 2
}
