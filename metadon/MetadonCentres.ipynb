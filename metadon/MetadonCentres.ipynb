{
 "cells": [
  {
   "cell_type": "code",
   "execution_count": 8,
   "metadata": {
    "collapsed": true
   },
   "outputs": [],
   "source": [
    "import geocoder\n",
    "import time\n",
    "import csv"
   ]
  },
  {
   "cell_type": "code",
   "execution_count": 2,
   "metadata": {
    "collapsed": true
   },
   "outputs": [],
   "source": [
    "a=\"\"\"הגפן – מרכז לטיפול תרופתי ממושך \tאופיר 45, חיפה\n",
    "מרכז לטיפול תרופתי ממושך אום אל-פאחם\tE-Shaf'I St Umm al-Fahm\n",
    "מרכז לטיפול תרופתי ממושך, נצרת\t6171 St 4 Nazareth\n",
    "צור-אביב – מרכז לטיפול תרופתי ארוך טווח\tהרכבת 36, תל אביב\n",
    "מרכז לטיפול תרופתי ממושך, אשדוד\tההשכלה 9, אשדוד\n",
    "מרכז לטיפול תרופתי ממושך סלע ב', באר שבע (כולל שיקום תעסוקתי)\tפנחס החוצב 14   , באר שבע\n",
    "מרכז לטיפול תרופתי ממושך, חדרה\tתחנת רכבת מזרח ישנה, חדרה  \n",
    "מ.א.מ.ץ – מרכז לטיפול תרופתי ממושך, חיפה\tאופיר 45 חיפה\n",
    "מ.א.מ.ץ – מרכז לטיפול תרופתי ממושך, טבריה\tהעמקים 26 טבריה\n",
    "מרכז לטיפול תרופתי ממושך, ירושלים (מ.מ.י.)\tהאומן 20  ירושלים\n",
    "מרפאת אדלסון למחקר ולטיפול בנפגעי סמים (מרכז לטיפול במתדון בלבד) \tהנרייטה סולד 1 תל אביב\n",
    "מרכז לטיפול תרופתי ממושך \"יסעור\" יפו\t16 Mickiewitcz Street תל אביב\"\"\".replace('\\xa0', '')"
   ]
  },
  {
   "cell_type": "markdown",
   "metadata": {},
   "source": [
    "Copy paste from the document ^"
   ]
  },
  {
   "cell_type": "code",
   "execution_count": 3,
   "metadata": {
    "collapsed": false
   },
   "outputs": [],
   "source": [
    "rows = [aa.split('\\t') for aa in a.split('\\n')]"
   ]
  },
  {
   "cell_type": "code",
   "execution_count": 4,
   "metadata": {
    "collapsed": true
   },
   "outputs": [],
   "source": [
    "for row in rows:\n",
    "    row.append(geocoder.google(row[1]))\n",
    "    row.append(row[-1].latlng)\n",
    "    time.sleep(1)"
   ]
  },
  {
   "cell_type": "code",
   "execution_count": 5,
   "metadata": {
    "collapsed": false
   },
   "outputs": [
    {
     "data": {
      "text/plain": [
       "[]"
      ]
     },
     "execution_count": 5,
     "metadata": {},
     "output_type": "execute_result"
    }
   ],
   "source": [
    "[row[1] for row in rows if len(row[-1])!=2]"
   ]
  },
  {
   "cell_type": "markdown",
   "metadata": {},
   "source": [
    "Make sure that all addresses were geocoded"
   ]
  },
  {
   "cell_type": "code",
   "execution_count": 10,
   "metadata": {
    "collapsed": false
   },
   "outputs": [],
   "source": [
    "w = csv.writer(open('metadon.csv','w'))"
   ]
  },
  {
   "cell_type": "code",
   "execution_count": 11,
   "metadata": {
    "collapsed": false
   },
   "outputs": [
    {
     "data": {
      "text/plain": [
       "22"
      ]
     },
     "execution_count": 11,
     "metadata": {},
     "output_type": "execute_result"
    }
   ],
   "source": [
    "w.writerow(['name','address','lat','lng'])"
   ]
  },
  {
   "cell_type": "code",
   "execution_count": 12,
   "metadata": {
    "collapsed": true
   },
   "outputs": [],
   "source": [
    "for row in rows:\n",
    "    w.writerow([row[0],row[1],str(row[3][0]),str(row[3][1])])\n"
   ]
  },
  {
   "cell_type": "code",
   "execution_count": 13,
   "metadata": {
    "collapsed": true
   },
   "outputs": [],
   "source": [
    "del w"
   ]
  }
 ],
 "metadata": {
  "kernelspec": {
   "display_name": "Python 3",
   "language": "python",
   "name": "python3"
  },
  "language_info": {
   "codemirror_mode": {
    "name": "ipython",
    "version": 3
   },
   "file_extension": ".py",
   "mimetype": "text/x-python",
   "name": "python",
   "nbconvert_exporter": "python",
   "pygments_lexer": "ipython3",
   "version": "3.5.2"
  }
 },
 "nbformat": 4,
 "nbformat_minor": 2
}
