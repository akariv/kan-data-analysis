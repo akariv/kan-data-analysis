{
 "cells": [
  {
   "cell_type": "code",
   "execution_count": 505,
   "metadata": {
    "collapsed": true
   },
   "outputs": [],
   "source": [
    "import pandas\n",
    "import numpy as np\n",
    "import csv"
   ]
  },
  {
   "cell_type": "code",
   "execution_count": 506,
   "metadata": {
    "collapsed": false
   },
   "outputs": [],
   "source": [
    "def read_file(fn, sheet):\n",
    "    df = pandas.read_excel(fn, sheetname=sheet, header=None)\n",
    "    # df.transpose()\n",
    "    df.replace(np.nan, 0, regex=True, inplace=True)\n",
    "    df[0].replace(0, '', regex=True, inplace=True)\n",
    "    df[1].replace(0, '', regex=True, inplace=True)\n",
    "    df[2].replace(0, '', regex=True, inplace=True)\n",
    "    df['header'] = df[0] + ' ' + df[1] + ' ' + df[2]\n",
    "    del df[0]\n",
    "    del df[1]\n",
    "    del df[2]\n",
    "    header = [h.strip().replace('  ',' ').replace('  ',' ') for h in list(df['header'])]\n",
    "    df = df.transpose()\n",
    "    header_trans = dict([\n",
    "    ])\n",
    "    ret = [dict((header_trans.get(h,h),r) for h,r in zip(header,rec)) for rec in df.values.tolist()][:-1]\n",
    "    for r in ret:\n",
    "        r['file'] = fn\n",
    "    return ret"
   ]
  },
  {
   "cell_type": "code",
   "execution_count": 507,
   "metadata": {
    "collapsed": false
   },
   "outputs": [],
   "source": [
    "ret = []\n",
    "files = [\n",
    "    ('center.xlsx', 'שנת 2016'),\n",
    "    ('ashkelon.xlsx', 'ספטמבר'),\n",
    "    ('haifa.xlsx', 'כל השנה'),\n",
    "    ('south.xlsx', 'גיליון1'),\n",
    "    ('tel-aviv.xlsx', 'שנת 2014'),\n",
    "]\n",
    "for x in files:\n",
    "    ret.extend(read_file(*x))\n"
   ]
  },
  {
   "cell_type": "code",
   "execution_count": 557,
   "metadata": {
    "collapsed": true
   },
   "outputs": [],
   "source": [
    "addresses = [\n",
    "    ('לב הכרמל', 'היינריך היינה 15 חיפה'),\n",
    "    ('בית שיבולים קיבוץ העוגן', 'קיבוץ העוגן'),\n",
    "    ('מעין צבי', 'מעיין צבי'),\n",
    "    ('נוף הקריה', 'יוסף לוי 23, קרית ביאליק'),\n",
    "    ('אחוזת אבא ואמא', 'הירדן 26 בני ברק'),\n",
    "    ('בית הקשת', 'מנחם יצחק 5 רמת גן'),\n",
    "    ('בית נורית', 'פחד יצחק 6 תל אביב'),\n",
    "    ('משהד', 'הנשיא 106, הרצליה'),\n",
    "    ('נאות מונטיפיורי', 'בית הלל 22, תל אביב'),\n",
    "    ('עירוני רמת גן', 'Sderot HaYeled 10, Ramat Gan'),\n",
    "    ('רעות ליכטנשטדר', 'שדרות החי\"ל 2, תל-אביב'),\n",
    "    ('עמל גת', 'קיבוץ גת'),\n",
    "    ('קרית ים', 'שי עגנון 9 קרית ים'),\n",
    "    ('נאות אביב', 'Shivtei Israel St 50, Tel Aviv-Yafo'),\n",
    "    ('בית סביון קבוצת יבנה', 'קבוצת יבנה'),\n",
    "    ('גיל הזהב נתניה', 'הרצוג 25 נתניה'),\n",
    "    ('תפארת מוריה', 'ראשון לציון 11 נתניה'),\n",
    "    ('טיבה', 'טייבה'),\n",
    "    ('אור להורים גלגוליה', \"ג׳לג׳וליה\"),\n",
    "    ('בית האורן', 'קיבוץ יד מרדכי'),\n",
    "    ('בית הדר שיקום', 'אורט 3 אשדוד'),\n",
    "    ('בית רחל ליצק אחוה', 'צומת כפר אחים'),\n",
    "    ('דור כרמל', \"גדליהו 1 א' חיפה\"),\n",
    "    ('בית הורים חמדת אבות', 'הרצליה 35 חיפה'),\n",
    "    ('עין שמר', 'קיבוץ עין שמר'),\n",
    "    ('בית בלב אילת', 'שדרות התמרים 39 אילת'),\n",
    "    ('מחלקה סיעודית נאות בארי קיבוץ בארי', 'קיבוץ בארי'),\n",
    "    ('אחוזת איל נאות אבי', \"רח' יוסף חיים 13 אור יהודה\"),\n",
    "]\n",
    "latlon = \\\n",
    "{'אור להורים גלגוליה': (32.1524568, 34.9539749),\n",
    " 'אחוזת אבא ואמא': (32.0919755, 34.8381512),\n",
    " 'אחוזת איל נאות אבי': (32.028021, 34.8668178),\n",
    " 'בית בלב אילת': (29.5603751, 34.95096360000001),\n",
    " 'בית האורן': (31.586963, 34.5575),\n",
    " 'בית הדר שיקום': (31.8151412, 34.6481266),\n",
    " 'בית הורים חמדת אבות': (32.8144567, 34.9920339),\n",
    " 'בית הקשת': (32.0905874, 34.8182636),\n",
    " 'בית נורית': (32.0360804, 34.7470145),\n",
    " 'בית סביון קבוצת יבנה': (31.81398699999999, 34.719103),\n",
    " 'בית רחל ליצק אחוה': (31.742342, 34.765508),\n",
    " 'בית שיבולים קיבוץ העוגן': (32.360437, 34.923338),\n",
    " 'גיל הזהב נתניה': (32.3422557, 34.86035270000001),\n",
    " 'דור כרמל': (32.7824445, 35.0267911),\n",
    " 'טיבה': (32.266892, 35.009675),\n",
    " 'לב הכרמל': (32.7979788, 34.9833254),\n",
    " 'מחלקה סיעודית בית סביון קבוצת יבנה': (31.81398699999999, 34.719103),\n",
    " 'מחלקה סיעודית נאות בארי קיבוץ בארי': (31.424513, 34.492567),\n",
    " 'מעין צבי': (32.568484, 34.940623),\n",
    " 'משהד': (32.1510325, 34.849595),\n",
    " 'נאות אביב': (32.0460111, 34.7548405),\n",
    " 'נאות מונטיפיורי': (32.069322, 34.7910685),\n",
    " 'נוף הקריה': (32.8671917, 35.0965208),\n",
    " 'עין שמר': (32.461917, 35.00673),\n",
    " 'עירוני רמת גן': (32.0856502, 34.8137076),\n",
    " 'עמל גת': (31.627796, 34.794112),\n",
    " 'קרית ים': (32.8401065, 35.0595015),\n",
    " 'רעות ליכטנשטדר': (32.0565626, 34.7901209),\n",
    " 'תפארת מוריה': (32.3281956, 34.8505576)}"
   ]
  },
  {
   "cell_type": "code",
   "execution_count": 558,
   "metadata": {
    "collapsed": false
   },
   "outputs": [
    {
     "data": {
      "text/plain": [
       "{'אור להורים גלגוליה': (32.1524568, 34.9539749),\n",
       " 'אחוזת אבא ואמא': (32.0919755, 34.8381512),\n",
       " 'אחוזת איל נאות אבי': (32.028021, 34.8668178),\n",
       " 'בית בלב אילת': (29.5603751, 34.95096360000001),\n",
       " 'בית האורן': (31.586963, 34.5575),\n",
       " 'בית הדר שיקום': (31.8151412, 34.6481266),\n",
       " 'בית הורים חמדת אבות': (32.8144567, 34.9920339),\n",
       " 'בית הקשת': (32.0905874, 34.8182636),\n",
       " 'בית נורית': (32.0360804, 34.7470145),\n",
       " 'בית סביון קבוצת יבנה': (31.81398699999999, 34.719103),\n",
       " 'בית רחל ליצק אחוה': (31.742342, 34.765508),\n",
       " 'בית שיבולים קיבוץ העוגן': (32.360437, 34.923338),\n",
       " 'גיל הזהב נתניה': (32.3422557, 34.86035270000001),\n",
       " 'דור כרמל': (32.7824445, 35.0267911),\n",
       " 'טיבה': (32.266892, 35.009675),\n",
       " 'לב הכרמל': (32.7979788, 34.9833254),\n",
       " 'מחלקה סיעודית בית סביון קבוצת יבנה': (31.81398699999999, 34.719103),\n",
       " 'מחלקה סיעודית נאות בארי קיבוץ בארי': (31.424513, 34.492567),\n",
       " 'מעין צבי': (32.568484, 34.940623),\n",
       " 'משהד': (32.1510325, 34.849595),\n",
       " 'נאות אביב': (32.0460111, 34.7548405),\n",
       " 'נאות מונטיפיורי': (32.069322, 34.7910685),\n",
       " 'נוף הקריה': (32.8671917, 35.0965208),\n",
       " 'עין שמר': (32.461917, 35.00673),\n",
       " 'עירוני רמת גן': (32.0856502, 34.8137076),\n",
       " 'עמל גת': (31.627796, 34.794112),\n",
       " 'קרית ים': (32.8401065, 35.0595015),\n",
       " 'רעות ליכטנשטדר': (32.0565626, 34.7901209),\n",
       " 'תפארת מוריה': (32.3281956, 34.8505576)}"
      ]
     },
     "execution_count": 558,
     "metadata": {},
     "output_type": "execute_result"
    }
   ],
   "source": [
    "import geocoder\n",
    "for name, address in addresses:\n",
    "    if latlon.get(name) is None:\n",
    "        gc = geocoder.google(address)\n",
    "        latlon[name] = (gc.lat, gc.lng)\n",
    "latlon"
   ]
  },
  {
   "cell_type": "code",
   "execution_count": 559,
   "metadata": {
    "collapsed": false
   },
   "outputs": [],
   "source": [
    "def clean(name):\n",
    "    return name.replace('מוסד ',' ')\\\n",
    "               .replace('בע\"מ', ' ')\\\n",
    "               .replace('הגריאטרי', 'גריאטרי')\\\n",
    "               .replace(',',' ')\\\n",
    "               .replace(\"'\",'')\\\n",
    "               .replace('ק.','קיבוץ ')\\\n",
    "               .replace('.',' ')\\\n",
    "               .replace(')',' ')\\\n",
    "               .replace('-',' ')\\\n",
    "               .replace('(',' ')\\\n",
    "               .replace('וו','ו')\\\n",
    "               .replace('יי', 'י')\\\n",
    "               .replace('  ', ' ')\\\n",
    "               .replace('TLC', 'טנדר לאבינג קר')\\\n",
    "               .strip()\n",
    "def ok(name):\n",
    "    return isinstance(name, str) and '2016' not in name and 'סה\"כ' not in name\n",
    "institutes = list(csv.DictReader(open('out.csv')))\n",
    "kinds = [\n",
    "   'מחלקות סיעודיות בקיבוצים',\n",
    "   'מוסדות סיעוד גריאטרים',\n",
    "   'מרכזים גריאטרים',\n",
    "   'בתי חולים למחלות ממושכות',\n",
    "   'מוסדות לבריאות הנפש'\n",
    "]\n",
    "# print(list(map(lambda x:x['סוג'],institutes)))\n",
    "institutes = dict((clean(x['name']+' '+x['עיר/ישוב']), x) for x in institutes if ok(x['name']) and x['סוג'] in kinds)\n",
    "# institutes"
   ]
  },
  {
   "cell_type": "code",
   "execution_count": 560,
   "metadata": {
    "collapsed": false
   },
   "outputs": [
    {
     "name": "stdout",
     "output_type": "stream",
     "text": [
      "('ashkelon.xlsx', 'מחוז דרום')\n",
      "1\n",
      "187\n"
     ]
    }
   ],
   "source": [
    "def contains(a,b):\n",
    "    a=set(a.split())\n",
    "    b=set(b.split())\n",
    "    return a.issuperset(b) or b.issuperset(a)\n",
    "\n",
    "good = []\n",
    "not_found = []\n",
    "for x in ret:\n",
    "    name = x['שם בית אבות']\n",
    "    if not ok(name): continue\n",
    "    name = clean(name)\n",
    "    if name in latlon:\n",
    "        x['lat'] = latlon[name][0]\n",
    "        x['lon'] = latlon[name][1]\n",
    "        x['name'] = x['שם בית אבות']\n",
    "        good.append(x)\n",
    "    else:\n",
    "        possible_keys = [k for k in institutes.keys() if contains(name, k) or contains(k, name)]\n",
    "        if len(possible_keys) == 0:\n",
    "            not_found.append((x['file'], name))\n",
    "        elif len(possible_keys) > 1:\n",
    "            print('MULT', x['file'], name)\n",
    "            print('\\t', possible_keys)\n",
    "        else:\n",
    "            key = possible_keys[0]\n",
    "            x.update(institutes[key])\n",
    "            if not x['lat']:\n",
    "                if name in latlon:\n",
    "                    x['lat'] = latlon[name][0]\n",
    "                    x['lon'] = latlon[name][1]\n",
    "                else:\n",
    "                    print(name)\n",
    "                    print(x['file'],x['כתובת'],x['עיר/ישוב'])                    \n",
    "            good.append(x)\n",
    "for x in sorted(not_found):\n",
    "    print(x)\n",
    "print(len(not_found))\n",
    "print(len(good))"
   ]
  },
  {
   "cell_type": "code",
   "execution_count": 563,
   "metadata": {
    "collapsed": false
   },
   "outputs": [],
   "source": [
    "header_translations = [\n",
    "    \n",
    "    ('שם בית אבות', 'name2'),\n",
    "    ('name', 'name'),\n",
    "\n",
    "    ('סוג', 'kind'),\n",
    "    ('בעלות', 'ownership'),\n",
    "    ('כתובת', 'address'),\n",
    "    ('מנהל', 'manager'),\n",
    "    \n",
    "    ('ס\"כ דיווחים', 'total'),\n",
    "    \n",
    "    ('הגורם החשוד בפגיעה דייר במעון', 'suspect_tenant'),\n",
    "    ('הגורם החשוד בפגיעה בן\\\\בת של הקרבן', 'suspect_child'),\n",
    "    ('הגורם החשוד בפגיעה בן\\\\בת זוג של הקורבן', 'suspect_partner'),\n",
    "    ('הגורם החשוד בפגיעה בן משפחה אחר', 'suspect_other_family'),\n",
    "    ('הגורם החשוד בפגיעה אדם מוכר שאינו בן משפחה', 'suspect_acquaintance'),\n",
    "    ('הגורם החשוד בפגיעה אדם אחראי- עובד בבית האבות', 'suspect_employee'),\n",
    "\n",
    "    ('סוג הפגיעה ניצול כלכלי נקבה', 'kind_economic_abuse_f'),\n",
    "    ('סוג הפגיעה ניצול כלכלי זכר', 'kind_economic_abuse_m'),\n",
    "    ('סוג הפגיעה התעללות נפשית נקבה', 'kind_emotional_abuse_f'),\n",
    "    ('סוג הפגיעה התעללות נפשית זכר', 'kind_emotional_abuse_m'),\n",
    "    ('סוג הפגיעה התעללות פיזית נקבה', 'kind_physical_abuse_f'),\n",
    "    ('סוג הפגיעה התעללות פיזית זכר', 'kind_physical_abuse_m'),\n",
    "    ('סוג הפגיעה התעללות\\\\פגיעה מינית נקבה', 'kind_sexual_abuse_f'),\n",
    "    ('סוג הפגיעה התעללות\\\\פגיעה מינית זכר', 'kind_sexual_abuse_m'),\n",
    "    ('סוג הפגיעה מניעת זכויות נקבה', 'kind_rights_f'),\n",
    "    ('סוג הפגיעה מניעת זכויות זכר', 'kind_rights_m'),\n",
    "    ('סוג הפגיעה הזנחה נקבה', 'kind_neglect_f'),\n",
    "    ('סוג הפגיעה הזנחה זכר', 'kind_neglect_m'),\n",
    "    \n",
    "\n",
    "    ('הפניה להמשך טיפול משטרה', 'ref_police'),\n",
    "    ('הפניה להמשך טיפול פיקוח על מוסדות\\\\מעונות', 'ref_supervision'),\n",
    "    ('הפניה להמשך טיפול פקיד סעד', 'ref_pkid_saad'),\n",
    "    ('הפניה להמשך טיפול   פקיד סעד', 'ref_pkid_saad'),\n",
    "\n",
    "    ('סוג המחלקה סיעודי מורכב', 'kind_siudi_complex'),\n",
    "    ('סוג המחלקה סיעודיים', 'kind_siudi'),\n",
    "    ('סוג המחלקה שיקום', 'kind_recovery'),\n",
    "    ('סוג המחלקה עצמאיים', 'kind_independent'),\n",
    "    ('סוג המחלקה תשושי נפש', 'kind_exhausted_mind'),\n",
    "    ('סוג המחלקה תשושים', 'kind_exhausted'),\n",
    "    ('סוג המחלקה מונשמים', 'kind_respiratory'),\n",
    "        \n",
    "    ('lat', 'lat'),\n",
    "    ('lon', 'lon'),\n",
    "]\n",
    "header_translation = dict(header_translations)\n",
    "bad_headers = [\n",
    "    '',\n",
    "    'תפקיד: עובדת סוציאלית:עו\"ס מחוזית בגריאטריה',\n",
    "    'שם ממלא הטופס: איריס פרידמן',\n",
    "    'file',\n",
    "    'הערות:',\n",
    "    'שם ממלא הטופס',\n",
    "    'תפקיד: עובדת סוציאלית',\n",
    "    'תאריך',\n",
    "    'הערות',\n",
    "    'הגורם החשוד בפגיעה',\n",
    "    'סוג הפגיעה (נא לציין את סוג הפגיעה העיקרי)',\n",
    "    'הפניה להמשך טיפול (גורם אחד או יותר):',\n",
    "    '26.2.17',\n",
    "    'הערות: 26 מוסדות דיווחו (10 דיווח 0) 31 לא דיווח',\n",
    "    'שם ממלא הטופס: ננסי קרפ עפארי',\n",
    "    'קוד מוסד',\n",
    "    \"מס' טלפון\",\n",
    "    'לשכת בריאות',\n",
    "    \"מס' פקס\",\n",
    "    'נפה',\n",
    "    'עיר/ישוב',\n",
    "]\n",
    "records = [\n",
    "    dict((header_translation[k],v) \n",
    "         for k,v in r.items() \n",
    "         if k not in bad_headers)\n",
    "    for r in good\n",
    "]"
   ]
  },
  {
   "cell_type": "code",
   "execution_count": 562,
   "metadata": {
    "collapsed": true
   },
   "outputs": [],
   "source": [
    "w=csv.DictWriter(open('reports.csv', 'w'), list(map(lambda x:x[1], header_translations)))\n",
    "w.writeheader()\n",
    "w.writerows(records)"
   ]
  },
  {
   "cell_type": "code",
   "execution_count": null,
   "metadata": {
    "collapsed": true
   },
   "outputs": [],
   "source": []
  }
 ],
 "metadata": {
  "kernelspec": {
   "display_name": "Python 3",
   "language": "python",
   "name": "python3"
  },
  "language_info": {
   "codemirror_mode": {
    "name": "ipython",
    "version": 3
   },
   "file_extension": ".py",
   "mimetype": "text/x-python",
   "name": "python",
   "nbconvert_exporter": "python",
   "pygments_lexer": "ipython3",
   "version": "3.5.2"
  }
 },
 "nbformat": 4,
 "nbformat_minor": 2
}
